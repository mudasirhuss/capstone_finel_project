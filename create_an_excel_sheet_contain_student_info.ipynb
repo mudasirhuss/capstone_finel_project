{
 "cells": [
  {
   "cell_type": "code",
   "execution_count": 81,
   "id": "b559b342",
   "metadata": {},
   "outputs": [
    {
     "name": "stdout",
     "output_type": "stream",
     "text": [
      "Excel file \"C:/Users/hp/Downloads/execel\\Student_Attendance_November_2023.xlsx\" created successfully.\n"
     ]
    }
   ],
   "source": [
    "import pandas as pd\n",
    "import calendar\n",
    "import os\n",
    "from datetime import datetime, timedelta\n",
    "import numpy as np\n",
    "\n",
    "def calculate_totals(row):\n",
    "    # Count the total present, absent, and leave for each student\n",
    "    total_present = np.sum(row == 'P')\n",
    "    total_absent = np.sum(row == 'A')\n",
    "    total_leave = np.sum(row == 'L')\n",
    "    return pd.Series({'Total.P': total_present, 'Total.A': total_absent, 'Total.L': total_leave})\n",
    "\n",
    "def generate_excel(month, year, directory):\n",
    "    # Get the number of days in the specified month and year\n",
    "    days_in_month = calendar.monthrange(year, month)[1]\n",
    "\n",
    "    # Get the first day of the month\n",
    "    first_day = datetime(year, month, 1)\n",
    "\n",
    "    # Create a DataFrame with the specified columns\n",
    "    df = pd.DataFrame(columns=['Roll No', 'Student.N', 'phone.N'] + [(first_day + timedelta(days=i)).strftime('%Y-%m-%d') for i in range(days_in_month)])\n",
    "\n",
    "    # You can add your student data to the DataFrame here\n",
    "    # For example:\n",
    "    df['Roll No'] = [1, 2, 3, 4, 5]\n",
    "    df['Student.N'] = ['Mudasir_Hussain', 'Muzammil_Aliyar', 'Bob', 'Alice', 'Charlie']\n",
    "    df['phone.N'] = ['123-456-7890', '987-654-3210', '555-123-4567', '111-222-3333', '444-555-6666']\n",
    "\n",
    "\n",
    "\n",
    "    # Calculate total present, absent, and leave for each student\n",
    "    totals = df.apply(calculate_totals, axis=1)\n",
    "    df[['Total.P', 'Total.A', 'Total.L']] = totals[['Total.P', 'Total.A', 'Total.L']]\n",
    "\n",
    "    # Save the DataFrame to an Excel file in the specified directory\n",
    "    excel_file_name = f'Student_Attendance_{calendar.month_name[month]}_{year}.xlsx'\n",
    "    excel_file_path = os.path.join(directory, excel_file_name)\n",
    "    df.to_excel(excel_file_path, index=False)\n",
    "    print(f'Excel file \"{excel_file_path}\" created successfully.')\n",
    "\n",
    "# Example usage:\n",
    "specified_directory = 'C:/Users/hp/Downloads/execel'  # Change this to your desired directory\n",
    "current_month = datetime.now().month\n",
    "current_year = datetime.now().year\n",
    "generate_excel(month=current_month, year=current_year, directory=specified_directory)\n"
   ]
  },
  {
   "cell_type": "code",
   "execution_count": 77,
   "id": "c5bbc136",
   "metadata": {},
   "outputs": [
    {
     "name": "stdout",
     "output_type": "stream",
     "text": [
      "Comparison completed. Output saved to C:/Users/hp/Downloads/execel/1output_excel.xlsx\n"
     ]
    }
   ],
   "source": []
  },
  {
   "cell_type": "code",
   "execution_count": null,
   "id": "44ac5ddd",
   "metadata": {},
   "outputs": [],
   "source": []
  }
 ],
 "metadata": {
  "kernelspec": {
   "display_name": "Python 3 (ipykernel)",
   "language": "python",
   "name": "python3"
  },
  "language_info": {
   "codemirror_mode": {
    "name": "ipython",
    "version": 3
   },
   "file_extension": ".py",
   "mimetype": "text/x-python",
   "name": "python",
   "nbconvert_exporter": "python",
   "pygments_lexer": "ipython3",
   "version": "3.10.9"
  }
 },
 "nbformat": 4,
 "nbformat_minor": 5
}
