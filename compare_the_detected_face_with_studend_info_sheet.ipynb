{
 "cells": [
  {
   "cell_type": "code",
   "execution_count": 2,
   "id": "39973727",
   "metadata": {},
   "outputs": [
    {
     "name": "stdout",
     "output_type": "stream",
     "text": [
      "Comparison completed. Output saved to C:/Users/hp/Downloads/execel/1output_excel.xlsx\n"
     ]
    }
   ],
   "source": [
    "import pandas as pd\n",
    "from datetime import datetime\n",
    "\n",
    "# Load the input and reference sheets\n",
    "input_sheet_path = 'C:/Users/hp/Downloads/execel/attendance.xlsx'\n",
    "reference_sheet_path = 'C:/Users/hp/Downloads/execel/output_excel.xlsx'\n",
    "output_sheet_path = 'C:/Users/hp/Downloads/execel/1output_excel.xlsx'\n",
    "\n",
    "input_df = pd.read_excel(input_sheet_path)\n",
    "reference_df = pd.read_excel(reference_sheet_path)\n",
    "\n",
    "# Assuming 'Student.N' is the column to compare\n",
    "common_students = pd.merge(reference_df, input_df, on='Student.N', how='inner')\n",
    "\n",
    "# Get the current date\n",
    "current_date = datetime.today().strftime('%Y-%m-%d')\n",
    "\n",
    "# Mark 'P' in the current date column in the reference sheet\n",
    "reference_df[current_date] = reference_df['Student.N'].isin(common_students['Student.N']).map({True: 'P', False: 'A'})\n",
    "\n",
    "# Calculate total 'P' and 'A' for each row\n",
    "reference_df['Total.P'] = (reference_df.iloc[:, 3:] == 'P').sum(axis=1)\n",
    "reference_df['Total.A'] = (reference_df.iloc[:, 3:] == 'A').sum(axis=1)\n",
    "\n",
    "# Save the modified reference sheet to a new Excel file\n",
    "reference_df.to_excel(output_sheet_path, index=False)\n",
    "\n",
    "print(f\"Comparison completed. Output saved to {output_sheet_path}\")\n"
   ]
  },
  {
   "cell_type": "code",
   "execution_count": null,
   "id": "719335ca",
   "metadata": {},
   "outputs": [],
   "source": []
  }
 ],
 "metadata": {
  "kernelspec": {
   "display_name": "Python 3 (ipykernel)",
   "language": "python",
   "name": "python3"
  },
  "language_info": {
   "codemirror_mode": {
    "name": "ipython",
    "version": 3
   },
   "file_extension": ".py",
   "mimetype": "text/x-python",
   "name": "python",
   "nbconvert_exporter": "python",
   "pygments_lexer": "ipython3",
   "version": "3.10.9"
  }
 },
 "nbformat": 4,
 "nbformat_minor": 5
}
